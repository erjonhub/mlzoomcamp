{
 "cells": [
  {
   "cell_type": "code",
   "execution_count": 33,
   "metadata": {},
   "outputs": [],
   "source": [
    "# import libraries\n",
    "\n",
    "import pandas as pd\n",
    "import numpy as np"
   ]
  },
  {
   "cell_type": "code",
   "execution_count": 133,
   "metadata": {},
   "outputs": [],
   "source": [
    "# importing data\n",
    "\n",
    "# define the path to the dataset\n",
    "\n",
    "path = 'https://raw.githubusercontent.com/alexeygrigorev/datasets/master/housing.csv'\n",
    "\n",
    "# read the dataset using pandas\n",
    "\n",
    "dataset = pd.read_csv(path)"
   ]
  },
  {
   "cell_type": "code",
   "execution_count": 134,
   "metadata": {},
   "outputs": [
    {
     "data": {
      "text/html": [
       "<div>\n",
       "<style scoped>\n",
       "    .dataframe tbody tr th:only-of-type {\n",
       "        vertical-align: middle;\n",
       "    }\n",
       "\n",
       "    .dataframe tbody tr th {\n",
       "        vertical-align: top;\n",
       "    }\n",
       "\n",
       "    .dataframe thead th {\n",
       "        text-align: right;\n",
       "    }\n",
       "</style>\n",
       "<table border=\"1\" class=\"dataframe\">\n",
       "  <thead>\n",
       "    <tr style=\"text-align: right;\">\n",
       "      <th></th>\n",
       "      <th>latitude</th>\n",
       "      <th>longitude</th>\n",
       "      <th>housing_median_age</th>\n",
       "      <th>total_rooms</th>\n",
       "      <th>total_bedrooms</th>\n",
       "      <th>population</th>\n",
       "      <th>households</th>\n",
       "      <th>median_income</th>\n",
       "      <th>median_house_value</th>\n",
       "    </tr>\n",
       "  </thead>\n",
       "  <tbody>\n",
       "    <tr>\n",
       "      <th>701</th>\n",
       "      <td>37.64</td>\n",
       "      <td>-121.97</td>\n",
       "      <td>32.0</td>\n",
       "      <td>1283.0</td>\n",
       "      <td>194.0</td>\n",
       "      <td>485.0</td>\n",
       "      <td>171.0</td>\n",
       "      <td>6.0574</td>\n",
       "      <td>431000.0</td>\n",
       "    </tr>\n",
       "    <tr>\n",
       "      <th>830</th>\n",
       "      <td>37.61</td>\n",
       "      <td>-121.99</td>\n",
       "      <td>9.0</td>\n",
       "      <td>3666.0</td>\n",
       "      <td>711.0</td>\n",
       "      <td>2341.0</td>\n",
       "      <td>703.0</td>\n",
       "      <td>4.6458</td>\n",
       "      <td>217000.0</td>\n",
       "    </tr>\n",
       "    <tr>\n",
       "      <th>859</th>\n",
       "      <td>37.57</td>\n",
       "      <td>-121.97</td>\n",
       "      <td>21.0</td>\n",
       "      <td>4342.0</td>\n",
       "      <td>783.0</td>\n",
       "      <td>2172.0</td>\n",
       "      <td>789.0</td>\n",
       "      <td>4.6146</td>\n",
       "      <td>247600.0</td>\n",
       "    </tr>\n",
       "    <tr>\n",
       "      <th>860</th>\n",
       "      <td>37.58</td>\n",
       "      <td>-121.96</td>\n",
       "      <td>15.0</td>\n",
       "      <td>3575.0</td>\n",
       "      <td>597.0</td>\n",
       "      <td>1777.0</td>\n",
       "      <td>559.0</td>\n",
       "      <td>5.7192</td>\n",
       "      <td>283500.0</td>\n",
       "    </tr>\n",
       "    <tr>\n",
       "      <th>861</th>\n",
       "      <td>37.58</td>\n",
       "      <td>-121.98</td>\n",
       "      <td>20.0</td>\n",
       "      <td>4126.0</td>\n",
       "      <td>1031.0</td>\n",
       "      <td>2079.0</td>\n",
       "      <td>975.0</td>\n",
       "      <td>3.6832</td>\n",
       "      <td>216900.0</td>\n",
       "    </tr>\n",
       "  </tbody>\n",
       "</table>\n",
       "</div>"
      ],
      "text/plain": [
       "     latitude  longitude  housing_median_age  total_rooms  total_bedrooms  \\\n",
       "701     37.64    -121.97                32.0       1283.0           194.0   \n",
       "830     37.61    -121.99                 9.0       3666.0           711.0   \n",
       "859     37.57    -121.97                21.0       4342.0           783.0   \n",
       "860     37.58    -121.96                15.0       3575.0           597.0   \n",
       "861     37.58    -121.98                20.0       4126.0          1031.0   \n",
       "\n",
       "     population  households  median_income  median_house_value  \n",
       "701       485.0       171.0         6.0574            431000.0  \n",
       "830      2341.0       703.0         4.6458            217000.0  \n",
       "859      2172.0       789.0         4.6146            247600.0  \n",
       "860      1777.0       559.0         5.7192            283500.0  \n",
       "861      2079.0       975.0         3.6832            216900.0  "
      ]
     },
     "execution_count": 134,
     "metadata": {},
     "output_type": "execute_result"
    }
   ],
   "source": [
    "# prepare the dataset\n",
    "\n",
    "subset = dataset[(dataset['ocean_proximity'] == '<1H OCEAN') | (dataset['ocean_proximity'] == 'INLAND')]\n",
    "\n",
    "subset = subset[['latitude', 'longitude', 'housing_median_age', 'total_rooms', 'total_bedrooms', 'population', 'households', 'median_income', 'median_house_value']]\n",
    "\n",
    "subset.head()"
   ]
  },
  {
   "cell_type": "code",
   "execution_count": 36,
   "metadata": {},
   "outputs": [
    {
     "data": {
      "text/plain": [
       "latitude                0\n",
       "longitude               0\n",
       "housing_median_age      0\n",
       "total_rooms             0\n",
       "total_bedrooms        157\n",
       "population              0\n",
       "households              0\n",
       "median_income           0\n",
       "median_house_value      0\n",
       "dtype: int64"
      ]
     },
     "execution_count": 36,
     "metadata": {},
     "output_type": "execute_result"
    }
   ],
   "source": [
    "# Question 1 - total bedrooms\n",
    "\n",
    "subset.isna().sum()"
   ]
  },
  {
   "cell_type": "code",
   "execution_count": 37,
   "metadata": {},
   "outputs": [
    {
     "data": {
      "text/plain": [
       "1195.0"
      ]
     },
     "execution_count": 37,
     "metadata": {},
     "output_type": "execute_result"
    }
   ],
   "source": [
    "# Question 2 - 1195\n",
    "\n",
    "subset.population.median()"
   ]
  },
  {
   "cell_type": "code",
   "execution_count": 38,
   "metadata": {},
   "outputs": [
    {
     "name": "stdout",
     "output_type": "stream",
     "text": [
      "15687 3137 3137 9413\n"
     ]
    }
   ],
   "source": [
    "# Prepare and split the dataset\n",
    "\n",
    "n = len(subset)\n",
    "n_test = int(0.2 * n)\n",
    "n_val = int(0.2 * n)\n",
    "n_train = n - n_test - n_val\n",
    "\n",
    "print(n, n_test, n_val, n_train)\n",
    "\n",
    "idx = np.arange(n)\n",
    "np.random.seed(42)\n",
    "\n",
    "np.random.shuffle(idx)\n",
    "\n",
    "subset['median_house_value'] = np.log1p(subset['median_house_value'])\n",
    "\n",
    "subset_test = subset.iloc[idx[:n_test]].reset_index(drop=True)\n",
    "subset_val = subset.iloc[idx[n_test:n_test+n_val]].reset_index(drop=True)\n",
    "subset_train = subset.iloc[idx[n_test+n_val:]].reset_index(drop=True)"
   ]
  },
  {
   "cell_type": "code",
   "execution_count": 39,
   "metadata": {},
   "outputs": [
    {
     "name": "stdout",
     "output_type": "stream",
     "text": [
      "538.3\n"
     ]
    }
   ],
   "source": [
    "# Question 3 - Both are equally good\n",
    "\n",
    "# fill the missing values with 0 and mean\n",
    "\n",
    "null_mean = round(subset_train.total_bedrooms.mean(),2)\n",
    "print(null_mean)\n",
    "\n",
    "subset_train_mean = subset_train.copy()\n",
    "subset_test_mean = subset_test.copy()\n",
    "subset_val_mean = subset_val.copy()\n",
    "\n",
    "subset_train_mean.total_bedrooms = subset_train_mean.total_bedrooms.fillna(null_mean)\n",
    "subset_test_mean.total_bedrooms = subset_test_mean.total_bedrooms.fillna(null_mean)\n",
    "subset_val_mean.total_bedrooms = subset_val_mean.total_bedrooms.fillna(null_mean)\n",
    "\n",
    "subset_train_zero = subset_train.copy()\n",
    "subset_test_zero = subset_test.copy()\n",
    "subset_val_zero = subset_val.copy()\n",
    "\n",
    "subset_train_zero.total_bedrooms = subset_train_zero.total_bedrooms.fillna(0)\n",
    "subset_test_zero.total_bedrooms = subset_test_zero.total_bedrooms.fillna(0)\n",
    "subset_val_zero.total_bedrooms = subset_val_zero.total_bedrooms.fillna(0)"
   ]
  },
  {
   "cell_type": "code",
   "execution_count": 40,
   "metadata": {},
   "outputs": [],
   "source": [
    "# function \n",
    "\n",
    "def train_linear_regression(X, y):\n",
    "    \n",
    "    ones = np.ones(X.shape[0])\n",
    "    X = np.column_stack([ones, X])\n",
    "\n",
    "    XTX = X.T.dot(X)\n",
    "    XTX_inv = np.linalg.inv(XTX)\n",
    "    w = XTX_inv.dot(X.T).dot(y)\n",
    "    \n",
    "    return w[0], w[1:]"
   ]
  },
  {
   "cell_type": "code",
   "execution_count": 41,
   "metadata": {},
   "outputs": [],
   "source": [
    "# prepare the data for the model\n",
    "\n",
    "y_train_zero = subset_train_zero.median_house_value.values\n",
    "y_test_zero = subset_test_zero.median_house_value.values\n",
    "y_val_zero = subset_val_zero.median_house_value.values\n",
    "\n",
    "del subset_train_zero['median_house_value']\n",
    "del subset_test_zero['median_house_value']\n",
    "del subset_val_zero['median_house_value']\n",
    "\n",
    "y_train_mean = subset_train_mean.median_house_value.values\n",
    "y_test_mean = subset_test_mean.median_house_value.values\n",
    "y_val_mean = subset_val_mean.median_house_value.values\n",
    "\n",
    "del subset_train_mean['median_house_value']\n",
    "del subset_test_mean['median_house_value']\n",
    "del subset_val_mean['median_house_value']"
   ]
  },
  {
   "cell_type": "code",
   "execution_count": 67,
   "metadata": {},
   "outputs": [],
   "source": [
    "X_zero = subset_train_zero.values\n",
    "X_mean = subset_train_mean.values"
   ]
  },
  {
   "cell_type": "code",
   "execution_count": 114,
   "metadata": {},
   "outputs": [
    {
     "data": {
      "text/plain": [
       "array([11.99595522, 12.00432589, 12.04826463, ..., 11.9961922 ,\n",
       "       11.99818968, 11.99481275])"
      ]
     },
     "execution_count": 114,
     "metadata": {},
     "output_type": "execute_result"
    }
   ],
   "source": [
    "w0_zero, w_zero = train_linear_regression(X_zero, y_train_zero)\n",
    "y_pred_zero = w0_zero + X_zero.dot(w_zero)\n",
    "y_pred_zero"
   ]
  },
  {
   "cell_type": "code",
   "execution_count": 111,
   "metadata": {},
   "outputs": [
    {
     "data": {
      "text/plain": [
       "array([11.57338822, 12.35183315, 12.68877625, ..., 12.05272246,\n",
       "       11.79948975, 12.47390043])"
      ]
     },
     "execution_count": 111,
     "metadata": {},
     "output_type": "execute_result"
    }
   ],
   "source": [
    "w0_mean, w_mean = train_linear_regression(X_mean, y_train_mean)\n",
    "y_pred_mean = w0_mean + X_mean.dot(w_mean)\n",
    "y_pred_mean"
   ]
  },
  {
   "cell_type": "code",
   "execution_count": 112,
   "metadata": {},
   "outputs": [],
   "source": [
    "def rmse(y, y_pred):\n",
    "    se = (y - y_pred) ** 2\n",
    "    mse = se.mean()\n",
    "    return np.sqrt(mse)"
   ]
  },
  {
   "cell_type": "code",
   "execution_count": 113,
   "metadata": {},
   "outputs": [
    {
     "data": {
      "text/plain": [
       "0.726688873733112"
      ]
     },
     "execution_count": 113,
     "metadata": {},
     "output_type": "execute_result"
    }
   ],
   "source": [
    "rmse(y_train_zero, y_pred_zero)"
   ]
  },
  {
   "cell_type": "code",
   "execution_count": 107,
   "metadata": {},
   "outputs": [
    {
     "data": {
      "text/plain": [
       "0.33610609052725504"
      ]
     },
     "execution_count": 107,
     "metadata": {},
     "output_type": "execute_result"
    }
   ],
   "source": [
    "rmse(y_train_mean, y_pred_mean)"
   ]
  },
  {
   "cell_type": "code",
   "execution_count": 108,
   "metadata": {},
   "outputs": [],
   "source": [
    "# Question 4 - \n",
    "\n",
    "# regularize the function\n",
    "\n",
    "def train_linear_regression_reg(X, y, r):\n",
    "    ones = np.ones(X.shape[0])\n",
    "    X = np.column_stack([ones, X])\n",
    "\n",
    "    XTX = X.T.dot(X)\n",
    "    XTX = XTX + r * np.eye(XTX.shape[0])\n",
    "\n",
    "    XTX_inv = np.linalg.inv(XTX)\n",
    "    w_full = XTX_inv.dot(X.T).dot(y)\n",
    "    \n",
    "    return w_full[0], w_full[1:]"
   ]
  },
  {
   "cell_type": "code",
   "execution_count": 109,
   "metadata": {},
   "outputs": [
    {
     "name": "stdout",
     "output_type": "stream",
     "text": [
      "0 - 0.57\n",
      "1e-06 - 0.57\n",
      "0.0001 - 0.57\n",
      "0.001 - 0.57\n",
      "0.01 - 0.57\n",
      "0.1 - 0.56\n",
      "1 - 0.55\n",
      "5 - 0.55\n",
      "10 - 0.55\n"
     ]
    }
   ],
   "source": [
    "# try for different r values\n",
    "\n",
    "for r in [0, 0.000001, 0.0001, 0.001, 0.01, 0.1, 1, 5, 10]:\n",
    "    w0, w = train_linear_regression_reg(X_zero, y_train_zero, r)\n",
    "    y_pred_reg = w0 + X_zero.dot(w)\n",
    "    print(r, '-',round(rmse(y_train_mean, y_pred_reg),2))"
   ]
  },
  {
   "cell_type": "code",
   "execution_count": 126,
   "metadata": {},
   "outputs": [],
   "source": [
    "n = len(subset)\n",
    "n_test = int(0.2 * n)\n",
    "n_val = int(0.2 * n)\n",
    "n_train = n - n_test - n_val\n",
    "idx = np.arange(n)\n",
    "\n",
    "pred = []\n",
    "\n",
    "for s in [0, 1, 2, 3, 4, 5, 6, 7, 8, 9]:\n",
    "\n",
    "    np.random.seed(s)\n",
    "    np.random.shuffle(idx)\n",
    "\n",
    "    subset_seed = subset.copy()\n",
    "    subset_seed.total_bedrooms = subset_seed.total_bedrooms.fillna(0)\n",
    "\n",
    "    subset_seed['median_house_value'] = np.log1p(subset_seed['median_house_value'])\n",
    "\n",
    "    subset_seed_test = subset_seed.iloc[idx[:n_test]].reset_index(drop=True)\n",
    "    subset_seed_val = subset_seed.iloc[idx[n_test:n_test+n_val]].reset_index(drop=True)\n",
    "    subset_seed_train = subset_seed.iloc[idx[n_test+n_val:]].reset_index(drop=True)\n",
    "\n",
    "    y_train_seed = subset_seed_train.median_house_value.values\n",
    "    y_test_seed = subset_seed_test.median_house_value.values\n",
    "    y_val_seed = subset_seed_val.median_house_value.values\n",
    "\n",
    "    del subset_seed_train['median_house_value']\n",
    "    del subset_seed_test['median_house_value']\n",
    "    del subset_seed_val['median_house_value']\n",
    "\n",
    "    X_seed = subset_seed_train.values\n",
    "    X_val_seed = subset_seed_val.values\n",
    "\n",
    "    w0_seed, w_seed = train_linear_regression(X_seed, y_train_seed)\n",
    "    y_pred_seed = w0_seed + X_val_seed.dot(w_seed)\n",
    "\n",
    "    pred.append(rmse(y_val_seed, y_pred_seed))"
   ]
  },
  {
   "cell_type": "code",
   "execution_count": 131,
   "metadata": {},
   "outputs": [
    {
     "name": "stdout",
     "output_type": "stream",
     "text": [
      "0.006\n"
     ]
    }
   ],
   "source": [
    "# find the standard deviation\n",
    "\n",
    "print(round(np.std(pred),3))"
   ]
  },
  {
   "cell_type": "code",
   "execution_count": 137,
   "metadata": {},
   "outputs": [
    {
     "name": "stdout",
     "output_type": "stream",
     "text": [
      "0.3308655361593345\n"
     ]
    }
   ],
   "source": [
    "np.random.seed(9)\n",
    "np.random.shuffle(idx)\n",
    "\n",
    "subset_reg = subset.copy()\n",
    "subset_reg.total_bedrooms = subset_reg.total_bedrooms.fillna(0)\n",
    "\n",
    "subset_reg['median_house_value'] = np.log1p(subset_reg['median_house_value'])\n",
    "\n",
    "subset_reg_test = subset_reg.iloc[idx[:n_test]].reset_index(drop=True)\n",
    "subset_reg_val = subset_reg.iloc[idx[n_test:n_test+n_val]].reset_index(drop=True)\n",
    "subset_reg_train = subset_reg.iloc[idx[n_test+n_val:]].reset_index(drop=True)\n",
    "\n",
    "subset_train_val = pd.concat([subset_reg_train, subset_reg_val])\n",
    "\n",
    "y_train_val = subset_train_val.median_house_value.values\n",
    "y_test_reg = subset_reg_test.median_house_value.values\n",
    "\n",
    "del subset_train_val['median_house_value']\n",
    "del subset_reg_test['median_house_value']\n",
    "\n",
    "X_reg = subset_train_val.values\n",
    "X_test_reg = subset_seed_test.values\n",
    "\n",
    "w0, w = train_linear_regression(X_reg, y_train_val)\n",
    "y_pred = w0_seed + X_test_reg.dot(w_seed)\n",
    "\n",
    "print(rmse(y_test_seed, y_pred))"
   ]
  }
 ],
 "metadata": {
  "kernelspec": {
   "display_name": "base",
   "language": "python",
   "name": "python3"
  },
  "language_info": {
   "codemirror_mode": {
    "name": "ipython",
    "version": 3
   },
   "file_extension": ".py",
   "mimetype": "text/x-python",
   "name": "python",
   "nbconvert_exporter": "python",
   "pygments_lexer": "ipython3",
   "version": "3.9.16"
  },
  "orig_nbformat": 4
 },
 "nbformat": 4,
 "nbformat_minor": 2
}
