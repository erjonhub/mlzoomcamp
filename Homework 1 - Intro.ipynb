{
 "cells": [
  {
   "cell_type": "code",
   "execution_count": 29,
   "metadata": {},
   "outputs": [],
   "source": [
    "# import pandas\n",
    "# import numpy \n",
    "\n",
    "import pandas as pd\n",
    "import numpy as np"
   ]
  },
  {
   "cell_type": "code",
   "execution_count": 3,
   "metadata": {},
   "outputs": [
    {
     "data": {
      "text/plain": [
       "'2.1.0'"
      ]
     },
     "execution_count": 3,
     "metadata": {},
     "output_type": "execute_result"
    }
   ],
   "source": [
    "# Question 1: Version of Pandas\n",
    "\n",
    "pd.__version__"
   ]
  },
  {
   "cell_type": "code",
   "execution_count": 22,
   "metadata": {},
   "outputs": [
    {
     "data": {
      "text/plain": [
       "10"
      ]
     },
     "execution_count": 22,
     "metadata": {},
     "output_type": "execute_result"
    }
   ],
   "source": [
    "# Question 2: Number of columns in the dataset\n",
    "\n",
    "# define the path to the dataset\n",
    "\n",
    "path = 'https://raw.githubusercontent.com/alexeygrigorev/datasets/master/housing.csv'\n",
    "\n",
    "# read the dataset using pandas\n",
    "\n",
    "dataset = pd.read_csv(path)\n",
    "\n",
    "dataset.shape[1]"
   ]
  },
  {
   "cell_type": "code",
   "execution_count": 23,
   "metadata": {},
   "outputs": [
    {
     "data": {
      "text/plain": [
       "longitude               0\n",
       "latitude                0\n",
       "housing_median_age      0\n",
       "total_rooms             0\n",
       "total_bedrooms        207\n",
       "population              0\n",
       "households              0\n",
       "median_income           0\n",
       "median_house_value      0\n",
       "ocean_proximity         0\n",
       "dtype: int64"
      ]
     },
     "execution_count": 23,
     "metadata": {},
     "output_type": "execute_result"
    }
   ],
   "source": [
    "# Question 3: Select columns with missing data\n",
    "\n",
    "dataset.isnull().sum()"
   ]
  },
  {
   "cell_type": "code",
   "execution_count": 24,
   "metadata": {},
   "outputs": [
    {
     "data": {
      "text/plain": [
       "5"
      ]
     },
     "execution_count": 24,
     "metadata": {},
     "output_type": "execute_result"
    }
   ],
   "source": [
    "# Question 4: Number of unique values in the 'ocean_proximity' column\n",
    "\n",
    "dataset['ocean_proximity'].nunique()"
   ]
  },
  {
   "cell_type": "code",
   "execution_count": 25,
   "metadata": {},
   "outputs": [
    {
     "data": {
      "text/plain": [
       "259212.31179039303"
      ]
     },
     "execution_count": 25,
     "metadata": {},
     "output_type": "execute_result"
    }
   ],
   "source": [
    "# Question 5: Average value of the 'median_house_value' for the houses near the bay\n",
    "\n",
    "dataset[dataset['ocean_proximity']=='NEAR BAY'].median_house_value.mean()"
   ]
  },
  {
   "cell_type": "code",
   "execution_count": 28,
   "metadata": {},
   "outputs": [
    {
     "name": "stdout",
     "output_type": "stream",
     "text": [
      "No, the mean value has not changed after filling missing values 537.871 537.871\n"
     ]
    }
   ],
   "source": [
    "# Question 6: Has the mean value changed after filling missing values?\n",
    "\n",
    "# average of the 'total_bedrooms' column before filling missing values\n",
    "\n",
    "average_before = round(dataset['total_bedrooms'].mean(),3)\n",
    "\n",
    "# fill missing values with the mean value of the column\n",
    "\n",
    "dataset['total_bedrooms'].fillna(dataset['total_bedrooms'].mean(), inplace=True)\n",
    "\n",
    "# average of the 'total_bedrooms' column after filling missing values\n",
    "\n",
    "average_after = round(dataset['total_bedrooms'].mean(),3)\n",
    "\n",
    "if average_before == average_after:\n",
    "    print('No, the mean value has not changed after filling missing values', average_before, average_after)\n",
    "else:\n",
    "    print('Yes, the mean value has changed after filling missing values', average_before, average_after)"
   ]
  },
  {
   "cell_type": "code",
   "execution_count": 34,
   "metadata": {},
   "outputs": [
    {
     "data": {
      "text/plain": [
       "array([23.12330961, -1.48124183,  5.69922946])"
      ]
     },
     "execution_count": 34,
     "metadata": {},
     "output_type": "execute_result"
    }
   ],
   "source": [
    "# Question 7: Value of the last element of w\n",
    "\n",
    "# all islands\n",
    "\n",
    "only_islands = dataset[dataset['ocean_proximity']=='ISLAND']\n",
    "\n",
    "selection = only_islands[['housing_median_age', 'total_rooms', 'total_bedrooms']]\n",
    "\n",
    "# convert to numpy array\n",
    "X = selection.values\n",
    "\n",
    "# Transpose X\n",
    "X_transposed = X.T\n",
    "\n",
    "# multiply X_transposed by X\n",
    "XTX = X_transposed.dot(X)\n",
    "\n",
    "# inverse of XTX\n",
    "XTX_inverse = np.linalg.inv(XTX)\n",
    "\n",
    "# create a vector y\n",
    "y = np.array([950, 1300, 800, 1000, 1300])\n",
    "\n",
    "# calculate w\n",
    "w = XTX_inverse.dot(X_transposed).dot(y)\n",
    "w"
   ]
  }
 ],
 "metadata": {
  "kernelspec": {
   "display_name": "base",
   "language": "python",
   "name": "python3"
  },
  "language_info": {
   "codemirror_mode": {
    "name": "ipython",
    "version": 3
   },
   "file_extension": ".py",
   "mimetype": "text/x-python",
   "name": "python",
   "nbconvert_exporter": "python",
   "pygments_lexer": "ipython3",
   "version": "3.9.16"
  },
  "orig_nbformat": 4
 },
 "nbformat": 4,
 "nbformat_minor": 2
}
